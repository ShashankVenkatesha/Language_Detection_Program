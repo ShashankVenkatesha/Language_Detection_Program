{
  "nbformat": 4,
  "nbformat_minor": 0,
  "metadata": {
    "colab": {
      "name": "LangDP.ipynb",
      "provenance": [],
      "collapsed_sections": [],
      "authorship_tag": "ABX9TyMOM8OfqJY0X5kht+Rhq+3e",
      "include_colab_link": true
    },
    "kernelspec": {
      "name": "python3",
      "display_name": "Python 3"
    },
    "language_info": {
      "name": "python"
    }
  },
  "cells": [
    {
      "cell_type": "markdown",
      "metadata": {
        "id": "view-in-github",
        "colab_type": "text"
      },
      "source": [
        "<a href=\"https://colab.research.google.com/github/ShashankVenkatesha/Language_Detection_Program/blob/NLP_Domain/LangDP.ipynb\" target=\"_parent\"><img src=\"https://colab.research.google.com/assets/colab-badge.svg\" alt=\"Open In Colab\"/></a>"
      ]
    },
    {
      "cell_type": "code",
      "source": [
        "import pandas as pd\n",
        "import numpy as np\n",
        "import re\n",
        "import seaborn as sns\n",
        "import matplotlib.pyplot as plt\n",
        "import warnings\n",
        "warnings.simplefilter(\"ignore\")\n",
        "# Loading the dataset\n",
        "data = pd.read_csv(\"/content/Language_Detection.csv\")\n",
        "# value count for each language\n",
        "data[\"Language\"].value_counts()\n",
        "# separating the independent and dependant features\n",
        "X = data[\"Text\"]\n",
        "y = data[\"Language\"]\n",
        "# converting categorical variables to numerical\n",
        "from sklearn.preprocessing import LabelEncoder\n",
        "le = LabelEncoder()\n",
        "y = le.fit_transform(y)\n",
        "# creating a list for appending the preprocessed text\n",
        "data_list = []\n",
        "# iterating through all the text\n",
        "for text in X:\n",
        "    # removing the symbols and numbers\n",
        "    text = re.sub(r'[!@#$(),n\"%^*?:;~`0-9]', ' ', text)\n",
        "    text = re.sub(r'[[]]', ' ', text)\n",
        "    # converting the text to lower case\n",
        "    text = text.lower()\n",
        "    # appending to data_list\n",
        "    data_list.append(text)\n",
        "# creating bag of words using countvectorizer\n",
        "from sklearn.feature_extraction.text import CountVectorizer\n",
        "cv = CountVectorizer()\n",
        "X = cv.fit_transform(data_list).toarray()\n",
        "#train test splitting\n",
        "from sklearn.model_selection import train_test_split\n",
        "x_train, x_test, y_train, y_test = train_test_split(X, y, test_size = 0.20)\n",
        "#model creation and prediction\n",
        "from sklearn.naive_bayes import MultinomialNB\n",
        "model = MultinomialNB()\n",
        "model.fit(x_train, y_train)\n",
        "# prediction \n",
        "y_pred = model.predict(x_test)\n",
        "# model evaluation\n",
        "from sklearn.metrics import accuracy_score, confusion_matrix\n",
        "ac = accuracy_score(y_test, y_pred)\n",
        "cm = confusion_matrix(y_test, y_pred)\n",
        "# function for predicting language\n",
        "def predict(text):\n",
        "    x = cv.transform([text]).toarray()\n",
        "    lang = model.predict(x)\n",
        "    lang = le.inverse_transform(lang)\n",
        "    print(\"The langauge is in\",lang[0])\n",
        "\n",
        "while True:\n",
        "  user = input(\"Enter a Text: \")\n",
        "  predict(user)    \n",
        "  CC=input(\"Do you want to Continue(Y/N)--->\")\n",
        "  if CC==\"n\" or CC==\"N\":\n",
        "    break\n",
        "\n",
        "\n",
        "\n"
      ],
      "metadata": {
        "colab": {
          "base_uri": "https://localhost:8080/"
        },
        "id": "zX_4WpQ3oJsn",
        "outputId": "6acbc559-6340-455b-a2ff-8b0d3c59d09e"
      },
      "execution_count": null,
      "outputs": [
        {
          "output_type": "stream",
          "name": "stdout",
          "text": [
            "Enter a Text: ವಿಶ್ವ ಮಟ್ಟದಲ್ಲಿ ಕೆಜಿಎಫ್ ಚಾಪ್ಟರ್ 2 ಯಶಸ್ಸಿಗೆ ಕಿರಣ್ ಮಜುಂದಾರ್ ಶಾ ಫಿದಾ!\n",
            "The langauge is in Kannada\n"
          ]
        }
      ]
    }
  ]
}